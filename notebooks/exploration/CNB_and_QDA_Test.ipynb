{
 "cells": [
  {
   "cell_type": "code",
   "execution_count": null,
   "id": "2026a39e",
   "metadata": {},
   "outputs": [],
   "source": [
    "#Imports\n",
    "import pandas as pd\n",
    "import matplotlib.pyplot as plt\n",
    "import sys, os, random\n",
    "import importlib\n",
    "import numpy as np\n",
    "from sklearn.metrics import make_scorer, recall_score, fbeta_score\n",
    "from sklearn.discriminant_analysis import QuadraticDiscriminantAnalysis\n",
    "from sklearn.naive_bayes import ComplementNB\n",
    "\n",
    "#Class Import\n",
    "sys.path.append(os.path.abspath(os.path.join(os.getcwd(), \"../..\"))) #Allow for imports from src\n",
    "from src.models import QDA_Tester\n",
    "from src.models import CNB_Tester\n",
    "importlib.reload(QDA_Tester) #Ensures file is uptodate!\n",
    "importlib.reload(CNB_Tester) \n",
    "from src.models.QDA_Tester import QDA_Tester\n",
    "from src.models.QDA_Tester import CNB_Tester\n",
    "\n",
    "#Set Seed\n",
    "os.environ[\"PYTHONHASHSEED\"] = \"1945\"\n",
    "random.seed(1945)\n",
    "np.random.seed(1945)"
   ]
  },
  {
   "cell_type": "code",
   "execution_count": 2,
   "id": "1b466c09",
   "metadata": {},
   "outputs": [
    {
     "data": {
      "text/plain": [
       "(1174, 21)"
      ]
     },
     "execution_count": 2,
     "metadata": {},
     "output_type": "execute_result"
    }
   ],
   "source": [
    "#Complied data of convoys\n",
    "#Routes examined are HX, SC, OB, ON, ONS\n",
    "df = pd.read_csv('/Users/matthewplambeck/Desktop/Convoy Predictor/data/processed/Complete_Convoy_Data.csv')\n",
    "df = df.drop(columns=['Unnamed: 0'])\n",
    "df.shape #Test"
   ]
  },
  {
   "cell_type": "code",
   "execution_count": 3,
   "id": "3824c7d5",
   "metadata": {},
   "outputs": [
    {
     "data": {
      "text/html": [
       "<div>\n",
       "<style scoped>\n",
       "    .dataframe tbody tr th:only-of-type {\n",
       "        vertical-align: middle;\n",
       "    }\n",
       "\n",
       "    .dataframe tbody tr th {\n",
       "        vertical-align: top;\n",
       "    }\n",
       "\n",
       "    .dataframe thead th {\n",
       "        text-align: right;\n",
       "    }\n",
       "</style>\n",
       "<table border=\"1\" class=\"dataframe\">\n",
       "  <thead>\n",
       "    <tr style=\"text-align: right;\">\n",
       "      <th></th>\n",
       "      <th>Number of Ships</th>\n",
       "      <th>Number of Escort Ships</th>\n",
       "      <th>Number of Stragglers</th>\n",
       "      <th>Total Tons of Convoy</th>\n",
       "      <th>Overall Sink Percentage</th>\n",
       "      <th>Avg Number of U-Boats in Atlantic</th>\n",
       "      <th>Escort Ratio</th>\n",
       "      <th>Time At Sea (Days)</th>\n",
       "      <th>Month</th>\n",
       "      <th>Year</th>\n",
       "      <th>Previous Month Avg Sink %</th>\n",
       "      <th>Approx. Sighting Range</th>\n",
       "    </tr>\n",
       "  </thead>\n",
       "  <tbody>\n",
       "    <tr>\n",
       "      <th>0</th>\n",
       "      <td>5.0</td>\n",
       "      <td>2.0</td>\n",
       "      <td>0.0</td>\n",
       "      <td>22877.0</td>\n",
       "      <td>0.0</td>\n",
       "      <td>6.0</td>\n",
       "      <td>0.400000</td>\n",
       "      <td>3.0</td>\n",
       "      <td>9.0</td>\n",
       "      <td>1939.0</td>\n",
       "      <td>0.0</td>\n",
       "      <td>12.190200</td>\n",
       "    </tr>\n",
       "    <tr>\n",
       "      <th>1</th>\n",
       "      <td>5.0</td>\n",
       "      <td>2.0</td>\n",
       "      <td>0.0</td>\n",
       "      <td>22967.0</td>\n",
       "      <td>0.0</td>\n",
       "      <td>6.0</td>\n",
       "      <td>0.400000</td>\n",
       "      <td>5.0</td>\n",
       "      <td>9.0</td>\n",
       "      <td>1939.0</td>\n",
       "      <td>0.0</td>\n",
       "      <td>12.190200</td>\n",
       "    </tr>\n",
       "    <tr>\n",
       "      <th>2</th>\n",
       "      <td>7.0</td>\n",
       "      <td>4.0</td>\n",
       "      <td>0.0</td>\n",
       "      <td>21293.0</td>\n",
       "      <td>0.0</td>\n",
       "      <td>6.0</td>\n",
       "      <td>0.571429</td>\n",
       "      <td>5.0</td>\n",
       "      <td>9.0</td>\n",
       "      <td>1939.0</td>\n",
       "      <td>0.0</td>\n",
       "      <td>14.434062</td>\n",
       "    </tr>\n",
       "  </tbody>\n",
       "</table>\n",
       "</div>"
      ],
      "text/plain": [
       "   Number of Ships  Number of Escort Ships  Number of Stragglers  \\\n",
       "0              5.0                     2.0                   0.0   \n",
       "1              5.0                     2.0                   0.0   \n",
       "2              7.0                     4.0                   0.0   \n",
       "\n",
       "   Total Tons of Convoy  Overall Sink Percentage  \\\n",
       "0               22877.0                      0.0   \n",
       "1               22967.0                      0.0   \n",
       "2               21293.0                      0.0   \n",
       "\n",
       "   Avg Number of U-Boats in Atlantic  Escort Ratio  Time At Sea (Days)  Month  \\\n",
       "0                                6.0      0.400000                 3.0    9.0   \n",
       "1                                6.0      0.400000                 5.0    9.0   \n",
       "2                                6.0      0.571429                 5.0    9.0   \n",
       "\n",
       "     Year  Previous Month Avg Sink %  Approx. Sighting Range  \n",
       "0  1939.0                        0.0               12.190200  \n",
       "1  1939.0                        0.0               12.190200  \n",
       "2  1939.0                        0.0               14.434062  "
      ]
     },
     "execution_count": 3,
     "metadata": {},
     "output_type": "execute_result"
    }
   ],
   "source": [
    "#Drop unecessary/redundent features\n",
    "df = df.drop(columns=['Convoy Number', 'Number of Ships Sunk', 'Depart_Date', 'Arrival/Dispersal Date', 'Number of Escorts Sunk', \\\n",
    "                         'Number of Stragglers Sunk', 'Total Tons of Ships Sunk', 'Escort Sink Percentage', 'Straggler Sink Percentage'])\n",
    "df.reset_index(drop=True).head(3)"
   ]
  },
  {
   "cell_type": "code",
   "execution_count": 4,
   "id": "0d07eff0",
   "metadata": {},
   "outputs": [],
   "source": [
    "#Convert Overall Sink Percentage to binary 1( High)\n",
    "df['Risk'] = (df['Overall Sink Percentage'] > 0).astype(int) \n",
    "#Risk is binary based off whether a ship was sunk while in a convoy:  (0 = No Ships Sunk, 1 = At Least One Ship Sunk)\n",
    "X = np.array(df.drop(columns=['Overall Sink Percentage', 'Risk'])) #Remove Overall Sink Percentage as it leaks data\n",
    "y = df['Risk'].values #Prediction value"
   ]
  },
  {
   "cell_type": "code",
   "execution_count": null,
   "id": "fb20746c",
   "metadata": {},
   "outputs": [],
   "source": []
  },
  {
   "cell_type": "code",
   "execution_count": null,
   "id": "1039a37a",
   "metadata": {},
   "outputs": [],
   "source": [
    "{\n",
    "    \"model__alpha\": [0.1, 0.5, 1.0],\n",
    "    \"model__norm\": [True, False]\n",
    "}\n"
   ]
  },
  {
   "cell_type": "code",
   "execution_count": null,
   "id": "7e935205",
   "metadata": {},
   "outputs": [],
   "source": [
    "{\n",
    "    \"model__alpha\": [0.01, 0.05, 0.1, 0.25, 0.5, 0.75, 1.0, 1.5],\n",
    "    \"model__norm\": [True, False],\n",
    "    \"model__fit_prior\": [True, False],\n",
    "    \"model__class_prior\": [None,\n",
    "                           [0.35, 0.65],  # bias toward minority label later if needed\n",
    "                           [0.25, 0.75]]\n",
    "}\n"
   ]
  },
  {
   "cell_type": "code",
   "execution_count": null,
   "id": "751302bc",
   "metadata": {},
   "outputs": [],
   "source": []
  },
  {
   "cell_type": "code",
   "execution_count": null,
   "id": "0a315592",
   "metadata": {},
   "outputs": [],
   "source": [
    "{\n",
    "    \"model__reg_param\": [0.0, 0.05, 0.15],\n",
    "    \"model__store_covariance\": [False, True]\n",
    "}\n"
   ]
  },
  {
   "cell_type": "code",
   "execution_count": null,
   "id": "1f89f3ae",
   "metadata": {},
   "outputs": [],
   "source": [
    "{\n",
    "    \"model__reg_param\": [0.0, 0.01, 0.03, 0.05, 0.1, 0.2, 0.3],\n",
    "    \"model__store_covariance\": [False, True],\n",
    "    \"model__tol\": [1e-4, 1e-3, 1e-2],\n",
    "    \"model__priors\": [None,\n",
    "                      [0.92, 0.08],  # default training distribution example\n",
    "                      [0.85, 0.15],  # boosted minority prior\n",
    "                      [0.80, 0.20]]\n",
    "}\n"
   ]
  },
  {
   "cell_type": "code",
   "execution_count": null,
   "id": "6e3bb22c",
   "metadata": {},
   "outputs": [],
   "source": [
    "\n",
    "positive_label = 1  # high-risk convoy = 1\n",
    "recall_scorers = {\n",
    "    \"recall_macro\": \"recall_macro\",\n",
    "    \"recall_weighted\": \"recall_weighted\",\n",
    "    \"recall_pos\": make_scorer(recall_score, pos_label=positive_label),\n",
    "    \"f2_pos\": make_scorer(fbeta_score, beta=2.0, pos_label=positive_label),\n",
    "}\n",
    "\n",
    "qda_grid = {\n",
    "    \"model__reg_param\": [0.0, 0.01, 0.05, 0.1, 0.2, 0.3],\n",
    "    \"model__store_covariance\": [False, True],\n",
    "}\n",
    "cnb_grid = {\n",
    "    \"model__alpha\": [0.0, 0.05, 0.1, 0.25, 0.5, 1.0],\n",
    "    \"model__fit_prior\": [True, False],\n",
    "    \"model__norm\": [True, False],\n",
    "}\n",
    "\n",
    "qda = QDA_Tester(parameter_grid=qda_grid, cv_folds=5, random_state=1945)\n",
    "qda.positive_label = positive_label\n",
    "qda.auto_calibrate_threshold = True\n",
    "qda.threshold_beta = 2.0  # bias threshold search toward recall\n",
    "qda.train_test_split(X, y)\n",
    "qda.optimize(scoring=recall_scorers, refit=\"recall_pos\")\n",
    "qda_results = qda.evaluate(show_plots=False, print_results=True)\n",
    "\n",
    "cnb = CNB_Tester(parameter_grid=cnb_grid, cv_folds=5, random_state=1945)\n",
    "cnb.positive_label = positive_label\n",
    "cnb.auto_calibrate_threshold = True\n",
    "cnb.train_test_split(X, y)\n",
    "cnb.optimize(scoring=recall_scorers, refit=\"recall_pos\")\n",
    "cnb_results = cnb.evaluate(show_plots=False)\n"
   ]
  },
  {
   "cell_type": "code",
   "execution_count": null,
   "id": "cda67c35",
   "metadata": {},
   "outputs": [],
   "source": []
  }
 ],
 "metadata": {
  "kernelspec": {
   "display_name": "Python-ML",
   "language": "python",
   "name": "python3"
  },
  "language_info": {
   "codemirror_mode": {
    "name": "ipython",
    "version": 3
   },
   "file_extension": ".py",
   "mimetype": "text/x-python",
   "name": "python",
   "nbconvert_exporter": "python",
   "pygments_lexer": "ipython3",
   "version": "3.10.18"
  }
 },
 "nbformat": 4,
 "nbformat_minor": 5
}
