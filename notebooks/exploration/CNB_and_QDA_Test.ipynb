{
 "cells": [
  {
   "cell_type": "code",
   "execution_count": null,
   "id": "2026a39e",
   "metadata": {},
   "outputs": [],
   "source": [
    "#Imports\n",
    "import pandas as pd\n",
    "import matplotlib.pyplot as plt\n",
    "import sys, os, random\n",
    "import importlib\n",
    "import numpy as np\n",
    "from sklearn.metrics import make_scorer, recall_score\n",
    "from sklearn.discriminant_analysis import QuadraticDiscriminantAnalysis\n",
    "from sklearn.naive_bayes import ComplementNB\n",
    "\n",
    "\n",
    "#Class Import\n",
    "sys.path.append(os.path.abspath(os.path.join(os.getcwd(), \"../..\"))) #Allow for imports from src\n",
    "from src.models import QDA_Tester\n",
    "from src.models import CNB_Tester\n",
    "importlib.reload(QDA_Tester) #Ensures file is uptodate!\n",
    "importlib.reload(CNB_Tester) \n",
    "from src.models.QDA_Tester import QDA_Tester\n",
    "from src.models.QDA_Tester import CNB_Tester\n",
    "\n",
    "#Set Seed\n",
    "os.environ[\"PYTHONHASHSEED\"] = \"1945\"\n",
    "random.seed(1945)\n",
    "np.random.seed(1945)"
   ]
  },
  {
   "cell_type": "code",
   "execution_count": null,
   "id": "1b466c09",
   "metadata": {},
   "outputs": [],
   "source": []
  },
  {
   "cell_type": "code",
   "execution_count": null,
   "id": "3824c7d5",
   "metadata": {},
   "outputs": [],
   "source": []
  },
  {
   "cell_type": "code",
   "execution_count": null,
   "id": "0d07eff0",
   "metadata": {},
   "outputs": [],
   "source": []
  },
  {
   "cell_type": "code",
   "execution_count": null,
   "id": "fb20746c",
   "metadata": {},
   "outputs": [],
   "source": []
  }
 ],
 "metadata": {
  "kernelspec": {
   "display_name": "Python-ML",
   "language": "python",
   "name": "python3"
  },
  "language_info": {
   "codemirror_mode": {
    "name": "ipython",
    "version": 3
   },
   "file_extension": ".py",
   "mimetype": "text/x-python",
   "name": "python",
   "nbconvert_exporter": "python",
   "pygments_lexer": "ipython3",
   "version": "3.10.18"
  }
 },
 "nbformat": 4,
 "nbformat_minor": 5
}
