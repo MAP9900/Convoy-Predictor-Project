{
 "cells": [
  {
   "cell_type": "code",
   "execution_count": 23,
   "id": "2026a39e",
   "metadata": {},
   "outputs": [],
   "source": [
    "#Imports\n",
    "import pandas as pd\n",
    "import matplotlib.pyplot as plt\n",
    "import sys, os, random\n",
    "import importlib\n",
    "import numpy as np\n",
    "from sklearn.metrics import make_scorer, recall_score, fbeta_score\n",
    "from sklearn.discriminant_analysis import QuadraticDiscriminantAnalysis\n",
    "from sklearn.naive_bayes import ComplementNB\n",
    "\n",
    "#Class Import\n",
    "sys.path.append(os.path.abspath(os.path.join(os.getcwd(), \"../..\"))) #Allow for imports from src\n",
    "from src.models import QDA_Tester\n",
    "from src.models import CNB_Tester\n",
    "importlib.reload(QDA_Tester) #Ensures file is uptodate!\n",
    "importlib.reload(CNB_Tester) \n",
    "from src.models.QDA_Tester import QDA_Class\n",
    "from src.models.CNB_Tester import CNB_Class\n",
    "\n",
    "#Set Seed\n",
    "os.environ[\"PYTHONHASHSEED\"] = \"1945\"\n",
    "random.seed(1945)\n",
    "np.random.seed(1945)"
   ]
  },
  {
   "cell_type": "code",
   "execution_count": 3,
   "id": "1b466c09",
   "metadata": {},
   "outputs": [
    {
     "data": {
      "text/plain": [
       "(1174, 21)"
      ]
     },
     "execution_count": 3,
     "metadata": {},
     "output_type": "execute_result"
    }
   ],
   "source": [
    "#Complied data of convoys\n",
    "#Routes examined are HX, SC, OB, ON, ONS\n",
    "df = pd.read_csv('/Users/matthewplambeck/Desktop/Convoy Predictor/data/processed/Complete_Convoy_Data.csv')\n",
    "df = df.drop(columns=['Unnamed: 0'])\n",
    "df.shape #Test"
   ]
  },
  {
   "cell_type": "code",
   "execution_count": 4,
   "id": "3824c7d5",
   "metadata": {},
   "outputs": [
    {
     "data": {
      "text/html": [
       "<div>\n",
       "<style scoped>\n",
       "    .dataframe tbody tr th:only-of-type {\n",
       "        vertical-align: middle;\n",
       "    }\n",
       "\n",
       "    .dataframe tbody tr th {\n",
       "        vertical-align: top;\n",
       "    }\n",
       "\n",
       "    .dataframe thead th {\n",
       "        text-align: right;\n",
       "    }\n",
       "</style>\n",
       "<table border=\"1\" class=\"dataframe\">\n",
       "  <thead>\n",
       "    <tr style=\"text-align: right;\">\n",
       "      <th></th>\n",
       "      <th>Number of Ships</th>\n",
       "      <th>Number of Escort Ships</th>\n",
       "      <th>Number of Stragglers</th>\n",
       "      <th>Total Tons of Convoy</th>\n",
       "      <th>Overall Sink Percentage</th>\n",
       "      <th>Avg Number of U-Boats in Atlantic</th>\n",
       "      <th>Escort Ratio</th>\n",
       "      <th>Time At Sea (Days)</th>\n",
       "      <th>Month</th>\n",
       "      <th>Year</th>\n",
       "      <th>Previous Month Avg Sink %</th>\n",
       "      <th>Approx. Sighting Range</th>\n",
       "    </tr>\n",
       "  </thead>\n",
       "  <tbody>\n",
       "    <tr>\n",
       "      <th>0</th>\n",
       "      <td>5.0</td>\n",
       "      <td>2.0</td>\n",
       "      <td>0.0</td>\n",
       "      <td>22877.0</td>\n",
       "      <td>0.0</td>\n",
       "      <td>6.0</td>\n",
       "      <td>0.400000</td>\n",
       "      <td>3.0</td>\n",
       "      <td>9.0</td>\n",
       "      <td>1939.0</td>\n",
       "      <td>0.0</td>\n",
       "      <td>12.190200</td>\n",
       "    </tr>\n",
       "    <tr>\n",
       "      <th>1</th>\n",
       "      <td>5.0</td>\n",
       "      <td>2.0</td>\n",
       "      <td>0.0</td>\n",
       "      <td>22967.0</td>\n",
       "      <td>0.0</td>\n",
       "      <td>6.0</td>\n",
       "      <td>0.400000</td>\n",
       "      <td>5.0</td>\n",
       "      <td>9.0</td>\n",
       "      <td>1939.0</td>\n",
       "      <td>0.0</td>\n",
       "      <td>12.190200</td>\n",
       "    </tr>\n",
       "    <tr>\n",
       "      <th>2</th>\n",
       "      <td>7.0</td>\n",
       "      <td>4.0</td>\n",
       "      <td>0.0</td>\n",
       "      <td>21293.0</td>\n",
       "      <td>0.0</td>\n",
       "      <td>6.0</td>\n",
       "      <td>0.571429</td>\n",
       "      <td>5.0</td>\n",
       "      <td>9.0</td>\n",
       "      <td>1939.0</td>\n",
       "      <td>0.0</td>\n",
       "      <td>14.434062</td>\n",
       "    </tr>\n",
       "  </tbody>\n",
       "</table>\n",
       "</div>"
      ],
      "text/plain": [
       "   Number of Ships  Number of Escort Ships  Number of Stragglers  \\\n",
       "0              5.0                     2.0                   0.0   \n",
       "1              5.0                     2.0                   0.0   \n",
       "2              7.0                     4.0                   0.0   \n",
       "\n",
       "   Total Tons of Convoy  Overall Sink Percentage  \\\n",
       "0               22877.0                      0.0   \n",
       "1               22967.0                      0.0   \n",
       "2               21293.0                      0.0   \n",
       "\n",
       "   Avg Number of U-Boats in Atlantic  Escort Ratio  Time At Sea (Days)  Month  \\\n",
       "0                                6.0      0.400000                 3.0    9.0   \n",
       "1                                6.0      0.400000                 5.0    9.0   \n",
       "2                                6.0      0.571429                 5.0    9.0   \n",
       "\n",
       "     Year  Previous Month Avg Sink %  Approx. Sighting Range  \n",
       "0  1939.0                        0.0               12.190200  \n",
       "1  1939.0                        0.0               12.190200  \n",
       "2  1939.0                        0.0               14.434062  "
      ]
     },
     "execution_count": 4,
     "metadata": {},
     "output_type": "execute_result"
    }
   ],
   "source": [
    "#Drop unecessary/redundent features\n",
    "df = df.drop(columns=['Convoy Number', 'Number of Ships Sunk', 'Depart_Date', 'Arrival/Dispersal Date', 'Number of Escorts Sunk', \\\n",
    "                         'Number of Stragglers Sunk', 'Total Tons of Ships Sunk', 'Escort Sink Percentage', 'Straggler Sink Percentage'])\n",
    "df.reset_index(drop=True).head(3)"
   ]
  },
  {
   "cell_type": "code",
   "execution_count": 5,
   "id": "0d07eff0",
   "metadata": {},
   "outputs": [],
   "source": [
    "#Convert Overall Sink Percentage to binary 1( High)\n",
    "df['Risk'] = (df['Overall Sink Percentage'] > 0).astype(int) \n",
    "#Risk is binary based off whether a ship was sunk while in a convoy:  (0 = No Ships Sunk, 1 = At Least One Ship Sunk)\n",
    "X = np.array(df.drop(columns=['Overall Sink Percentage', 'Risk'])) #Remove Overall Sink Percentage as it leaks data\n",
    "y = df['Risk'].values #Prediction value"
   ]
  },
  {
   "cell_type": "code",
   "execution_count": 6,
   "id": "fb20746c",
   "metadata": {},
   "outputs": [],
   "source": [
    "positive_label = 1  #at risk is 1\n",
    "recall_scorers = {\n",
    "    \"recall_macro\": \"recall_macro\",\n",
    "    \"recall_weighted\": \"recall_weighted\",\n",
    "    \"recall_pos\": make_scorer(recall_score, pos_label=positive_label),\n",
    "    \"f2_pos\": make_scorer(fbeta_score, beta=2.0, pos_label=positive_label),}"
   ]
  },
  {
   "cell_type": "code",
   "execution_count": 7,
   "id": "1039a37a",
   "metadata": {},
   "outputs": [],
   "source": [
    "cnb_grid1 = {\"model__alpha\": [0.1, 0.5, 1.0], \"model__norm\": [True, False]}\n"
   ]
  },
  {
   "cell_type": "code",
   "execution_count": 8,
   "id": "7e935205",
   "metadata": {},
   "outputs": [],
   "source": [
    "cnb_grid2 = {\"model__alpha\": [0.01, 0.05, 0.1, 0.25, 0.5, 0.75, 1.0, 1.5],\n",
    "            \"model__norm\": [True, False],\n",
    "            \"model__fit_prior\": [True, False],\n",
    "            \"model__class_prior\": [None, [0.35, 0.65], [0.25, 0.75]]}\n"
   ]
  },
  {
   "cell_type": "code",
   "execution_count": 24,
   "id": "8e2014e8",
   "metadata": {},
   "outputs": [
    {
     "name": "stdout",
     "output_type": "stream",
     "text": [
      "\n",
      "Best Hyperparameters Found:\n",
      "{'model__alpha': 0.1, 'model__norm': False}\n",
      "Best CV (recall_pos): 0.6371\n",
      "Tuned decision threshold for positive class (1): 0.490\n",
      "Applied decision threshold: 0.4896 (F-beta: 0.4876)\n",
      "\n",
      "Pipeline Evaluation:\n",
      "\n",
      "Classification Report:\n",
      "              precision    recall  f1-score   support\n",
      "\n",
      "           0       0.89      0.63      0.73       185\n",
      "           1       0.34      0.70      0.45        50\n",
      "\n",
      "    accuracy                           0.64       235\n",
      "   macro avg       0.61      0.66      0.59       235\n",
      "weighted avg       0.77      0.64      0.67       235\n",
      "\n",
      "\n",
      "ROC AUC Score: 0.7054\n",
      "Matthews Correlation Coefficient (MCC): 0.2695\n",
      "Balanced Accuracy: 0.6635\n",
      "Confusion Matrix:\n",
      "          Predicted 0  Predicted 1\n",
      "Actual 0          116           69\n",
      "Actual 1           15           35\n",
      "Recall (positive=1): 0.7000\n",
      "F2 Score: 0.5757\n",
      "False Negatives: 15\n"
     ]
    }
   ],
   "source": [
    "cnb = CNB_Class(parameter_grid=cnb_grid1, cv_folds=5, random_state=1945)\n",
    "cnb.positive_label = positive_label\n",
    "cnb.auto_calibrate_threshold = True\n",
    "cnb.train_test_split(X, y)\n",
    "cnb.optimize(scoring=recall_scorers, refit=\"recall_pos\")\n",
    "cnb_results = cnb.evaluate(show_plots=False, print_results=True)\n"
   ]
  },
  {
   "cell_type": "code",
   "execution_count": 25,
   "id": "35c52efa",
   "metadata": {},
   "outputs": [
    {
     "name": "stdout",
     "output_type": "stream",
     "text": [
      "\n",
      "Best Hyperparameters Found:\n",
      "{'model__alpha': 0.01, 'model__class_prior': None, 'model__fit_prior': True, 'model__norm': False}\n",
      "Best CV (recall_pos): 0.6371\n",
      "Tuned decision threshold for positive class (1): 0.490\n",
      "Applied decision threshold: 0.4897 (F-beta: 0.4876)\n",
      "\n",
      "Pipeline Evaluation:\n",
      "\n",
      "Classification Report:\n",
      "              precision    recall  f1-score   support\n",
      "\n",
      "           0       0.89      0.63      0.74       185\n",
      "           1       0.34      0.70      0.46        50\n",
      "\n",
      "    accuracy                           0.65       235\n",
      "   macro avg       0.61      0.67      0.60       235\n",
      "weighted avg       0.77      0.65      0.68       235\n",
      "\n",
      "\n",
      "ROC AUC Score: 0.7056\n",
      "Matthews Correlation Coefficient (MCC): 0.2742\n",
      "Balanced Accuracy: 0.6662\n",
      "Confusion Matrix:\n",
      "          Predicted 0  Predicted 1\n",
      "Actual 0          117           68\n",
      "Actual 1           15           35\n",
      "Recall (positive=1): 0.7000\n",
      "F2 Score: 0.5776\n",
      "False Negatives: 15\n"
     ]
    }
   ],
   "source": [
    "cnb = CNB_Class(parameter_grid=cnb_grid2, cv_folds=5, random_state=1945)\n",
    "cnb.positive_label = positive_label\n",
    "cnb.auto_calibrate_threshold = True\n",
    "cnb.train_test_split(X, y)\n",
    "cnb.optimize(scoring=recall_scorers, refit=\"recall_pos\")\n",
    "cnb_results = cnb.evaluate(show_plots=False, print_results=True)\n"
   ]
  },
  {
   "cell_type": "code",
   "execution_count": 20,
   "id": "0a315592",
   "metadata": {},
   "outputs": [],
   "source": [
    "qda_grid1 =  {\"model__reg_param\": [0.0, 0.05, 0.15],\"model__store_covariance\": [False, True]}\n"
   ]
  },
  {
   "cell_type": "code",
   "execution_count": 21,
   "id": "1f89f3ae",
   "metadata": {},
   "outputs": [],
   "source": [
    "qda_grid2 = {\"model__reg_param\": [0.0, 0.01, 0.03, 0.05, 0.1, 0.2, 0.3],\n",
    "            \"model__store_covariance\": [False, True],\n",
    "            \"model__tol\": [1e-4, 1e-3, 1e-2],\n",
    "            \"model__priors\": [None, [0.92, 0.08], [0.85, 0.15], [0.80, 0.20]]}\n"
   ]
  },
  {
   "cell_type": "code",
   "execution_count": 22,
   "id": "f84a51f2",
   "metadata": {},
   "outputs": [
    {
     "name": "stdout",
     "output_type": "stream",
     "text": [
      "\n",
      "Best Hyperparameters Found:\n",
      "{'model__reg_param': 0.0, 'model__store_covariance': False}\n",
      "Best CV (recall_pos): 0.5918\n",
      "Applied decision threshold: 0.1770 (F-beta: 0.6566)\n",
      "\n",
      "Pipeline Evaluation:\n",
      "\n",
      "Classification Report:\n",
      "              precision    recall  f1-score   support\n",
      "\n",
      "           0       0.94      0.52      0.67       185\n",
      "           1       0.33      0.88      0.48        50\n",
      "\n",
      "    accuracy                           0.60       235\n",
      "   macro avg       0.64      0.70      0.58       235\n",
      "weighted avg       0.81      0.60      0.63       235\n",
      "\n",
      "\n",
      "ROC AUC Score: 0.7897\n",
      "Matthews Correlation Coefficient (MCC): 0.3335\n",
      "Balanced Accuracy: 0.7022\n",
      "Confusion Matrix:\n",
      "          Predicted 0  Predicted 1\n",
      "Actual 0           97           88\n",
      "Actual 1            6           44\n",
      "Recall (positive=1): 0.8800\n",
      "F2 Score: 0.6627\n",
      "False Negatives: 6\n"
     ]
    }
   ],
   "source": [
    "qda = QDA_Class(parameter_grid=qda_grid1, cv_folds=5, random_state=1945)\n",
    "qda.positive_label = positive_label\n",
    "qda.auto_calibrate_threshold = True\n",
    "qda.threshold_beta = 2.0  #bias threshold search toward recall\n",
    "qda.train_test_split(X, y)\n",
    "qda.optimize(scoring=recall_scorers, refit=\"recall_pos\")\n",
    "qda_results = qda.evaluate(show_plots=False, print_results=True)\n"
   ]
  },
  {
   "cell_type": "code",
   "execution_count": null,
   "id": "cda67c35",
   "metadata": {},
   "outputs": [],
   "source": []
  }
 ],
 "metadata": {
  "kernelspec": {
   "display_name": "Python-ML",
   "language": "python",
   "name": "python3"
  },
  "language_info": {
   "codemirror_mode": {
    "name": "ipython",
    "version": 3
   },
   "file_extension": ".py",
   "mimetype": "text/x-python",
   "name": "python",
   "nbconvert_exporter": "python",
   "pygments_lexer": "ipython3",
   "version": "3.10.18"
  }
 },
 "nbformat": 4,
 "nbformat_minor": 5
}
