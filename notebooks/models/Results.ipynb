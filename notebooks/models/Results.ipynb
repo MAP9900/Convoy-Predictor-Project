{
 "cells": [
  {
   "cell_type": "code",
   "execution_count": 43,
   "id": "5d64aee7",
   "metadata": {},
   "outputs": [],
   "source": [
    "#Imports\n",
    "import pandas as pd\n",
    "import matplotlib.pyplot as plt\n",
    "import sys, os, random\n",
    "import importlib\n",
    "import numpy as np\n",
    "from sklearn.metrics import make_scorer, recall_score\n",
    "from sklearn.ensemble import GradientBoostingClassifier\n",
    "from xgboost import XGBClassifier\n",
    "from lightgbm import LGBMClassifier\n",
    "from catboost import CatBoostClassifier\n",
    "\n",
    "#Class Import\n",
    "sys.path.append(os.path.abspath(os.path.join(os.getcwd(), \"../..\"))) #Allow for imports from src\n",
    "from src.models import Gradient_Boosting_Optimization\n",
    "importlib.reload(Gradient_Boosting_Optimization) #Ensures file is uptodate!\n",
    "from src.models.Gradient_Boosting_Optimization import Gradient_Boosting_Optimization\n",
    "\n",
    "#Set Seed\n",
    "os.environ[\"PYTHONHASHSEED\"] = \"1945\"\n",
    "random.seed(1945)\n",
    "np.random.seed(1945)"
   ]
  },
  {
   "cell_type": "code",
   "execution_count": 44,
   "id": "6ee53b4b",
   "metadata": {},
   "outputs": [
    {
     "data": {
      "text/plain": [
       "(1174, 21)"
      ]
     },
     "execution_count": 44,
     "metadata": {},
     "output_type": "execute_result"
    }
   ],
   "source": [
    "#Complied data of convoys\n",
    "#Routes examined are HX, SC, OB, ON, ONS\n",
    "df = pd.read_csv('/Users/matthewplambeck/Desktop/Convoy Predictor/data/processed/Complete_Convoy_Data.csv')\n",
    "df = df.drop(columns=['Unnamed: 0'])\n",
    "df.shape #Test"
   ]
  },
  {
   "cell_type": "code",
   "execution_count": 45,
   "id": "fe8a4914",
   "metadata": {},
   "outputs": [
    {
     "data": {
      "text/html": [
       "<div>\n",
       "<style scoped>\n",
       "    .dataframe tbody tr th:only-of-type {\n",
       "        vertical-align: middle;\n",
       "    }\n",
       "\n",
       "    .dataframe tbody tr th {\n",
       "        vertical-align: top;\n",
       "    }\n",
       "\n",
       "    .dataframe thead th {\n",
       "        text-align: right;\n",
       "    }\n",
       "</style>\n",
       "<table border=\"1\" class=\"dataframe\">\n",
       "  <thead>\n",
       "    <tr style=\"text-align: right;\">\n",
       "      <th></th>\n",
       "      <th>Number of Ships</th>\n",
       "      <th>Number of Escort Ships</th>\n",
       "      <th>Number of Stragglers</th>\n",
       "      <th>Total Tons of Convoy</th>\n",
       "      <th>Overall Sink Percentage</th>\n",
       "      <th>Avg Number of U-Boats in Atlantic</th>\n",
       "      <th>Escort Ratio</th>\n",
       "      <th>Time At Sea (Days)</th>\n",
       "      <th>Month</th>\n",
       "      <th>Year</th>\n",
       "      <th>Previous Month Avg Sink %</th>\n",
       "      <th>Approx. Sighting Range</th>\n",
       "    </tr>\n",
       "  </thead>\n",
       "  <tbody>\n",
       "    <tr>\n",
       "      <th>0</th>\n",
       "      <td>5.0</td>\n",
       "      <td>2.0</td>\n",
       "      <td>0.0</td>\n",
       "      <td>22877.0</td>\n",
       "      <td>0.0</td>\n",
       "      <td>6.0</td>\n",
       "      <td>0.400000</td>\n",
       "      <td>3.0</td>\n",
       "      <td>9.0</td>\n",
       "      <td>1939.0</td>\n",
       "      <td>0.0</td>\n",
       "      <td>12.190200</td>\n",
       "    </tr>\n",
       "    <tr>\n",
       "      <th>1</th>\n",
       "      <td>5.0</td>\n",
       "      <td>2.0</td>\n",
       "      <td>0.0</td>\n",
       "      <td>22967.0</td>\n",
       "      <td>0.0</td>\n",
       "      <td>6.0</td>\n",
       "      <td>0.400000</td>\n",
       "      <td>5.0</td>\n",
       "      <td>9.0</td>\n",
       "      <td>1939.0</td>\n",
       "      <td>0.0</td>\n",
       "      <td>12.190200</td>\n",
       "    </tr>\n",
       "    <tr>\n",
       "      <th>2</th>\n",
       "      <td>7.0</td>\n",
       "      <td>4.0</td>\n",
       "      <td>0.0</td>\n",
       "      <td>21293.0</td>\n",
       "      <td>0.0</td>\n",
       "      <td>6.0</td>\n",
       "      <td>0.571429</td>\n",
       "      <td>5.0</td>\n",
       "      <td>9.0</td>\n",
       "      <td>1939.0</td>\n",
       "      <td>0.0</td>\n",
       "      <td>14.434062</td>\n",
       "    </tr>\n",
       "  </tbody>\n",
       "</table>\n",
       "</div>"
      ],
      "text/plain": [
       "   Number of Ships  Number of Escort Ships  Number of Stragglers  \\\n",
       "0              5.0                     2.0                   0.0   \n",
       "1              5.0                     2.0                   0.0   \n",
       "2              7.0                     4.0                   0.0   \n",
       "\n",
       "   Total Tons of Convoy  Overall Sink Percentage  \\\n",
       "0               22877.0                      0.0   \n",
       "1               22967.0                      0.0   \n",
       "2               21293.0                      0.0   \n",
       "\n",
       "   Avg Number of U-Boats in Atlantic  Escort Ratio  Time At Sea (Days)  Month  \\\n",
       "0                                6.0      0.400000                 3.0    9.0   \n",
       "1                                6.0      0.400000                 5.0    9.0   \n",
       "2                                6.0      0.571429                 5.0    9.0   \n",
       "\n",
       "     Year  Previous Month Avg Sink %  Approx. Sighting Range  \n",
       "0  1939.0                        0.0               12.190200  \n",
       "1  1939.0                        0.0               12.190200  \n",
       "2  1939.0                        0.0               14.434062  "
      ]
     },
     "execution_count": 45,
     "metadata": {},
     "output_type": "execute_result"
    }
   ],
   "source": [
    "#Drop unecessary/redundent features\n",
    "df = df.drop(columns=['Convoy Number', 'Number of Ships Sunk', 'Depart_Date', 'Arrival/Dispersal Date', 'Number of Escorts Sunk', \\\n",
    "                         'Number of Stragglers Sunk', 'Total Tons of Ships Sunk', 'Escort Sink Percentage', 'Straggler Sink Percentage'])\n",
    "df.reset_index(drop=True).head(3)"
   ]
  },
  {
   "cell_type": "code",
   "execution_count": 46,
   "id": "95ce1a66",
   "metadata": {},
   "outputs": [],
   "source": [
    "#Convert Overall Sink Percentage to binary 1( High)\n",
    "df['Risk'] = (df['Overall Sink Percentage'] > 0).astype(int) \n",
    "#Risk is binary based off whether a ship was sunk while in a convoy:  (0 = No Ships Sunk, 1 = At Least One Ship Sunk)\n",
    "X = np.array(df.drop(columns=['Overall Sink Percentage', 'Risk'])) #Remove Overall Sink Percentage as it leaks data\n",
    "y = df['Risk'].values #Prediction value"
   ]
  },
  {
   "cell_type": "code",
   "execution_count": 47,
   "id": "093f2b48",
   "metadata": {},
   "outputs": [
    {
     "data": {
      "text/plain": [
       "['Number of Ships',\n",
       " 'Number of Escort Ships',\n",
       " 'Number of Stragglers',\n",
       " 'Total Tons of Convoy',\n",
       " 'Overall Sink Percentage',\n",
       " 'Avg Number of U-Boats in Atlantic',\n",
       " 'Escort Ratio',\n",
       " 'Time At Sea (Days)',\n",
       " 'Month',\n",
       " 'Year',\n",
       " 'Previous Month Avg Sink %',\n",
       " 'Approx. Sighting Range']"
      ]
     },
     "execution_count": 47,
     "metadata": {},
     "output_type": "execute_result"
    }
   ],
   "source": [
    "#Feature Names for later feature analysis:\n",
    "feature_names = list(df)\n",
    "feature_names[:-1]"
   ]
  },
  {
   "cell_type": "code",
   "execution_count": null,
   "id": "3ef7fd36",
   "metadata": {},
   "outputs": [],
   "source": [
    "#Main Optimized Model:\n",
    "#Gradient_Boosting_Optimization, grid-search & F2 threshold optimization\n",
    "gb_grid = Gradient_Boosting_Optimization(\n",
    "    model=GradientBoostingClassifier(random_state=1945),\n",
    "    parameter_grid = {\n",
    "        \"learning_rate\": [0.05, 0.08, 0.1, 0.12, 0.15],\n",
    "        \"n_estimators\": [300, 320, 340, 360, 380],\n",
    "        \"max_depth\": [3, 4, 5],\n",
    "        \"min_samples_leaf\": [1, 2, 3, 5],\n",
    "        \"min_samples_split\": [2, 3, 5],\n",
    "        \"subsample\": [0.7, 0.8, 0.9, 1.0],\n",
    "        \"max_features\": [\"sqrt\", \"log2\", None],},\n",
    "    cv_folds=5,\n",
    "    positive_label=1,\n",
    "    optimize_scoring=\"recall\",\n",
    "    auto_calibrate_threshold=True,\n",
    "    threshold_beta=2.0)\n",
    "\n",
    "gb_grid.train_test_split(X, y, train_size=0.8, random_state=1945)\n",
    "gb_grid.optimize()\n",
    "gb_grid_results = gb_grid.evaluate(show_plots=True, save_plots=True)\n"
   ]
  },
  {
   "cell_type": "code",
   "execution_count": null,
   "id": "e17f6e94",
   "metadata": {},
   "outputs": [],
   "source": [
    "#Manual Threshold Comparison using gb_grid: \n",
    "thresholds = np.arange(0, 1.05, 0.05) \n",
    "thresholds = thresholds.tolist() \n",
    "rows = []\n",
    "\n",
    "for t in thresholds:\n",
    "    gb_grid.set_decision_threshold(t)\n",
    "    res = gb_grid.evaluate(show_plots=False, print_results=False)\n",
    "    rows.append({\n",
    "        \"threshold\": t,\n",
    "        \"recall\": res[\"recall\"],\n",
    "        \"precision\": res[\"classification_report\"][\"1\"][\"precision\"],\n",
    "        \"false_negatives\": res[\"false_negatives\"],\n",
    "        \"accuracy\": res[\"classification_report\"][\"accuracy\"],\n",
    "        \"f1-scores\": res[\"classification_report\"][\"macro avg\"][\"f1-score\"]\n",
    "        })\n",
    "gb_grid.set_decision_threshold(None) \n",
    "threshold_results = pd.DataFrame(rows)\n",
    "threshold_results"
   ]
  },
  {
   "cell_type": "code",
   "execution_count": null,
   "id": "9995e8b1",
   "metadata": {},
   "outputs": [],
   "source": [
    "res"
   ]
  },
  {
   "cell_type": "code",
   "execution_count": null,
   "id": "f809d34b",
   "metadata": {},
   "outputs": [],
   "source": []
  },
  {
   "cell_type": "code",
   "execution_count": null,
   "id": "7063238e",
   "metadata": {},
   "outputs": [],
   "source": []
  },
  {
   "cell_type": "code",
   "execution_count": null,
   "id": "e493ff7b",
   "metadata": {},
   "outputs": [],
   "source": []
  }
 ],
 "metadata": {
  "kernelspec": {
   "display_name": "Python-ML",
   "language": "python",
   "name": "python3"
  },
  "language_info": {
   "codemirror_mode": {
    "name": "ipython",
    "version": 3
   },
   "file_extension": ".py",
   "mimetype": "text/x-python",
   "name": "python",
   "nbconvert_exporter": "python",
   "pygments_lexer": "ipython3",
   "version": "3.10.18"
  }
 },
 "nbformat": 4,
 "nbformat_minor": 5
}
